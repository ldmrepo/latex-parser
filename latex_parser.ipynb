{
  "nbformat": 4,
  "nbformat_minor": 0,
  "metadata": {
    "colab": {
      "provenance": [],
      "authorship_tag": "ABX9TyMH/AayS8SvwG9wEAP6f3WY",
      "include_colab_link": true
    },
    "kernelspec": {
      "name": "python3",
      "display_name": "Python 3"
    },
    "language_info": {
      "name": "python"
    }
  },
  "cells": [
    {
      "cell_type": "markdown",
      "metadata": {
        "id": "view-in-github",
        "colab_type": "text"
      },
      "source": [
        "<a href=\"https://colab.research.google.com/github/ldmrepo/latex-parser/blob/main/latex_parser.ipynb\" target=\"_parent\"><img src=\"https://colab.research.google.com/assets/colab-badge.svg\" alt=\"Open In Colab\"/></a>"
      ]
    },
    {
      "cell_type": "code",
      "source": [
        "!pip install lark-parser"
      ],
      "metadata": {
        "colab": {
          "base_uri": "https://localhost:8080/"
        },
        "id": "ig6SdSwy59t2",
        "outputId": "04e18ba2-14ca-4f70-949c-21f61ee51dc5"
      },
      "execution_count": 1,
      "outputs": [
        {
          "output_type": "stream",
          "name": "stdout",
          "text": [
            "Collecting lark-parser\n",
            "  Downloading lark_parser-0.12.0-py2.py3-none-any.whl (103 kB)\n",
            "\u001b[2K     \u001b[90m━━━━━━━━━━━━━━━━━━━━━━━━━━━━━━━━━━━━━━━━\u001b[0m \u001b[32m103.5/103.5 kB\u001b[0m \u001b[31m1.0 MB/s\u001b[0m eta \u001b[36m0:00:00\u001b[0m\n",
            "\u001b[?25hInstalling collected packages: lark-parser\n",
            "Successfully installed lark-parser-0.12.0\n"
          ]
        }
      ]
    },
    {
      "cell_type": "code",
      "execution_count": 15,
      "metadata": {
        "colab": {
          "base_uri": "https://localhost:8080/"
        },
        "id": "dkwiMoma5065",
        "outputId": "c5dacecb-03af-40c3-dea4-e3d8bb51541d"
      },
      "outputs": [
        {
          "output_type": "stream",
          "name": "stdout",
          "text": [
            "start\n",
            "  expression\n",
            "    basic_expr\n",
            "      term\n",
            "        factor\n",
            "          base\n",
            "            fraction\n",
            "              expression\n",
            "                basic_expr\n",
            "                  term\n",
            "                    factor\n",
            "                      base\n",
            "                        variable\ta\n",
            "                  term\n",
            "                    factor\n",
            "                      base\n",
            "                        variable\tb\n",
            "              expression\n",
            "                basic_expr\n",
            "                  term\n",
            "                    factor\n",
            "                      base\n",
            "                        variable\tc\n",
            "                  term\n",
            "                    factor\n",
            "                      base\n",
            "                        variable\td\n",
            "\n",
            "Tree('start', [[Tree('basic_expr', [Tree('term', [Tree('factor', [Tree('base', [Tree('fraction', [[Tree('basic_expr', [Tree('term', [Tree('factor', [Tree('base', ['a'])])]), Tree('term', [Tree('factor', [Tree('base', ['b'])])])])], [Tree('basic_expr', [Tree('term', [Tree('factor', [Tree('base', ['c'])])]), Tree('term', [Tree('factor', [Tree('base', ['d'])])])])]])])])])])]])\n"
          ]
        }
      ],
      "source": [
        "# 필요한 라이브러리 임포트\n",
        "from lark import Lark, Transformer, v_args\n",
        "\n",
        "# LaTeX 구문을 정의하는 EBNF 문법\n",
        "latex_grammar = r'''\n",
        "start: expression\n",
        "\n",
        "expression: align_env | equation_env | sum_expr | prod_expr | int_expr | lim_expr | basic_expr\n",
        "\n",
        "basic_expr: term ((\"+\" | \"-\" | \"\\\\pm\" | \"\\\\mp\" | \"\\\\cup\" | \"\\\\cap\" | \"\\\\setminus\") term)*\n",
        "\n",
        "term: factor ((\"*\" | \"/\" | \"\\\\cdot\" | \"\\\\times\" | \"\\\\div\" | \"\\\\land\" | \"\\\\lor\" | \"\\\\wedge\" | \"\\\\vee\") factor)*\n",
        "\n",
        "factor: base (\"^\" exponent)? (\"_\" subscript)?\n",
        "base: number | variable | function | fraction | sqrt | nroot | matrix | binom | logical_op | \"{\" expression \"}\" | \"(\" expression \")\" | overline | underline | text | accent | delimiter | font_style | color\n",
        "\n",
        "exponent: factor\n",
        "subscript: factor\n",
        "\n",
        "number: DIGIT+ (\".\" DIGIT+)?\n",
        "variable: LETTER+ | greek_letter\n",
        "\n",
        "function: function_name \"(\" expression \")\" | function_name \"{\" expression \"}\"\n",
        "function_name: \"sin\" | \"cos\" | \"tan\" | \"cot\" | \"sec\" | \"csc\" | \"log\" | \"ln\" | \"exp\" | \"sqrt\" | \"max\" | \"min\" | \"sum\" | \"prod\" | \"lim\" | \"int\" | \"frac\" | \"binom\" | \"arcsin\" | \"arccos\" | \"arctan\" | \"sinh\" | \"cosh\" | \"tanh\"\n",
        "\n",
        "fraction: \"\\\\frac\" \"{\" expression \"}\" \"{\" expression \"}\"\n",
        "sqrt: \"\\\\sqrt\" \"{\" expression \"}\"\n",
        "nroot: \"\\\\sqrt\" \"[\" expression \"]\" \"{\" expression \"}\"\n",
        "binom: \"\\\\binom\" \"{\" expression \"}\" \"{\" expression \"}\"\n",
        "\n",
        "matrix: \"\\\\begin{\" matrix_type \"}\" matrix_rows \"\\\\end{\" matrix_type \"}\"\n",
        "matrix_type: \"matrix\" | \"pmatrix\" | \"bmatrix\" | \"Bmatrix\" | \"vmatrix\" | \"Vmatrix\"\n",
        "matrix_rows: matrix_row (\"\\\\\\\\\" matrix_row)*\n",
        "matrix_row: expression (\"&\" expression)*\n",
        "\n",
        "align_env: \"\\\\begin{align}\" align_rows \"\\\\end{align}\" | \"\\\\begin{align*}\" align_rows \"\\\\end{align*}\"\n",
        "align_rows: align_row (\"\\\\\\\\\" align_row)*\n",
        "align_row: expression (\"&\" expression)*\n",
        "\n",
        "equation_env: \"\\\\begin{equation}\" expression \"\\\\end{equation}\" | \"\\\\begin{equation*}\" expression \"\\\\end{equation*}\"\n",
        "\n",
        "sum_expr: \"\\\\sum\" \"_\" subscript \"^\" exponent \"{\" expression \"}\"\n",
        "prod_expr: \"\\\\prod\" \"_\" subscript \"^\" exponent \"{\" expression \"}\"\n",
        "int_expr: \"\\\\int\" \"_\" lower_limit \"^\" upper_limit \"{\" expression \"}\"\n",
        "lim_expr: \"\\\\lim\" \"_\" subscript \"{\" expression \"}\"\n",
        "\n",
        "lower_limit: expression\n",
        "upper_limit: expression\n",
        "\n",
        "overline: \"\\\\overline\" \"{\" expression \"}\"\n",
        "underline: \"\\\\underline\" \"{\" expression \"}\"\n",
        "\n",
        "text: \"\\\\text\" \"{\" text_content \"}\"\n",
        "text_content: (LETTER | DIGIT | \" \" | symbol)*\n",
        "\n",
        "accent: \"\\\\hat\" \"{\" expression \"}\" | \"\\\\bar\" \"{\" expression \"}\" | \"\\\\vec\" \"{\" expression \"}\" | \"\\\\dot\" \"{\" expression \"}\" | \"\\\\ddot\" \"{\" expression \"}\" | \"\\\\tilde\" \"{\" expression \"}\" | \"\\\\breve\" \"{\" expression \"}\" | \"\\\\check\" \"{\" expression \"}\" | \"\\\\acute\" \"{\" expression \"}\" | \"\\\\grave\" \"{\" expression \"}\"\n",
        "\n",
        "operator: \"+\" | \"-\" | \"*\" | \"/\" | \"^\" | \"=\" | \"<\" | \">\" | \"\\\\leq\" | \"\\\\geq\" | \"\\\\neq\" | \"\\\\approx\" | \"\\\\equiv\" | \"\\\\sim\" | \"\\\\simeq\" | \"\\\\cong\" | \"\\\\propto\" | \"\\\\infty\" | \"\\\\partial\" | \"\\\\nabla\" | \"\\\\forall\" | \"\\\\exists\" | \"\\\\neg\" | \"\\\\to\" | \"\\\\implies\" | \"\\\\iff\" | \"\\\\int\" | \"\\\\sum\" | \"\\\\prod\" | \"\\\\cup\" | \"\\\\cap\" | \"\\\\setminus\"\n",
        "\n",
        "delimiter: \"(\" | \")\" | \"[\" | \"]\" | \"{\" | \"}\" | \"|\" | \"\\\\|\" | \"\\\\langle\" | \"\\\\rangle\"\n",
        "\n",
        "DIGIT: \"0\"..\"9\"\n",
        "LETTER: \"a\"..\"z\" | \"A\"..\"Z\"\n",
        "greek_letter: \"alpha\" | \"beta\" | \"gamma\" | \"delta\" | \"epsilon\" | \"zeta\" | \"eta\" | \"theta\" | \"iota\" | \"kappa\" | \"lambda\" | \"mu\" | \"nu\" | \"xi\" | \"omicron\" | \"pi\" | \"rho\" | \"sigma\" | \"tau\" | \"upsilon\" | \"phi\" | \"chi\" | \"psi\" | \"omega\" | \"Alpha\" | \"Beta\" | \"Gamma\" | \"Delta\" | \"Epsilon\" | \"Zeta\" | \"Eta\" | \"Theta\" | \"Iota\" | \"Kappa\" | \"Lambda\" | \"Mu\" | \"Nu\" | \"Xi\" | \"Omicron\" | \"Pi\" | \"Rho\" | \"Sigma\" | \"Tau\" | \"Upsilon\" | \"Phi\" | \"Chi\" | \"Psi\" | \"Omega\"\n",
        "\n",
        "logical_op: \"\\\\land\" | \"\\\\lor\" | \"\\\\neg\" | \"\\\\implies\" | \"\\\\iff\" | \"\\\\forall\" | \"\\\\exists\" | \"\\\\in\" | \"\\\\notin\" | \"\\\\subset\" | \"\\\\supset\" | \"\\\\subseteq\" | \"\\\\supseteq\" | \"\\\\setminus\" | \"\\\\emptyset\"\n",
        "\n",
        "symbol: \"!\" | \"\\\\\\\\\" | \"#\" | \"$\" | \"%\" | \"&\" | \"'\" | \"(\" | \")\" | \"*\" | \"+\" | \",\" | \"-\" | \".\" | \"/\" | \":\" | \";\" | \"<\" | \"=\" | \">\" | \"?\" | \"@\" | \"[\" | \"\\\\\\\\\" | \"]\" | \"^\" | \"_\" | \"`\" | \"{\" | \"|\" | \"}\" | \"~\"\n",
        "\n",
        "font_style: \"\\\\mathrm{\" text_content \"}\" | \"\\\\mathit{\" text_content \"}\" | \"\\\\mathbf{\" text_content \"}\" | \"\\\\mathsf{\" text_content \"}\" | \"\\\\mathtt{\" text_content \"}\" | \"\\\\mathcal{\" text_content \"}\" | \"\\\\mathbb{\" text_content \"}\"\n",
        "\n",
        "color: \"\\\\color{\" color_name \"}\" | \"\\\\textcolor{\" color_name \"}{\" text_content \"}\" | \"\\\\colorbox{\" color_name \"}{\" text_content \"}\"\n",
        "color_name: \"red\" | \"green\" | \"blue\" | \"cyan\" | \"magenta\" | \"yellow\" | \"black\" | \"white\" | \"gray\" | \"brown\" | \"lime\" | \"olive\" | \"orange\" | \"pink\" | \"purple\" | \"teal\" | \"violet\"\n",
        "\n",
        "size_adjustment: \"\\\\scalebox{\" factor \"}{\" expression \"}\" | \"\\\\resizebox{\" width \"}{\" height \"}{\" expression \"}\" | \"\\\\rotatebox{\" angle \"}{\" expression \"}\"\n",
        "width: number unit\n",
        "height: number unit\n",
        "angle: number\n",
        "unit: \"pt\" | \"mm\" | \"cm\" | \"in\" | \"ex\" | \"em\" | \"bp\" | \"dd\" | \"pc\"\n",
        "'''\n",
        "\n",
        "# 파서를 초기화\n",
        "parser = Lark(latex_grammar, start='start', parser='lalr')\n",
        "\n",
        "# 샘플 LaTeX 표현식\n",
        "latex_expression = r\"\\frac{a+b}{c+d}\"\n",
        "\n",
        "# 표현식을 파싱\n",
        "tree = parser.parse(latex_expression)\n",
        "\n",
        "# 파스 트리를 처리하는 변환기\n",
        "class LatexTransformer(Transformer):\n",
        "    def number(self, items):\n",
        "        return float(items[0])\n",
        "\n",
        "    def variable(self, items):\n",
        "        return str(items[0])\n",
        "\n",
        "    def expression(self, items):\n",
        "        return items\n",
        "\n",
        "# 파스 트리를 변환\n",
        "transformer = LatexTransformer()\n",
        "result = transformer.transform(tree)\n",
        "\n",
        "# 파스 트리와 결과 출력\n",
        "print(tree.pretty())\n",
        "print(result)\n"
      ]
    }
  ]
}